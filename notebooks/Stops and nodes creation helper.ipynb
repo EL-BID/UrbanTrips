{
 "cells": [
  {
   "cell_type": "markdown",
   "id": "156a1806",
   "metadata": {},
   "source": [
    "# Notebook para creación de paradas y nodos - Notebook for stop and node creation\n",
    "\n",
    "Este notebook es una herramienta para crear un set de paradas tal cual lo necesita `Urbantrips`, con un orden de paso y un `node_id` (que se utilizará para construir grafos. Existen 2 situaciones no excluyentes. Por un lado, se tiene una cartografía de recorridos de las diferentes lineas y ramales y se quiere establecer paradas utilizando un intervalo regular en metros a lo largo de ese recorrido. Esta situación es típica de recorridos de colectivos. Por el otro, se tiene una cartografía de paradas y una de recorridos para las diferentes lineas y ramales, para las cuales se quiere establecer un orden de paso. \n",
    "\n",
    "Este notebooks no es más que un insumo para ayudar en esta tareay facilitar la elaboración del dataset de paradas. El archivo final seguramente necesite ediciones customizadas y hechas a mano con otro criterio. El dataset final de paradas debe llamarse `stops.csv` y estar localizado en el directorio `data/data_ciudad/`. Si tiene otro nombre debe especificarse en `configuraciones_generales.yaml` en el parámetro `nombre_archivo_paradas`.\n",
    "\n",
    "Es importante aclarar que en la medida en que se necesita una única línea por cada ramal, no se considera el sentido el recorrido (ida o vuelta). Se debe tomar uno solo para construir las paradas. En caso de que existan diferencias en el recorrido, se puede desviar el mismo para que pase por un punto medio y seguir siendo un recorrido representativo del ramal.\n",
    "\n",
    "___\n",
    "\n",
    "This notebook is a tool to create a set of stops as needed by `Urbantrips`, with a step order and a `node_id` (which is reaffirmed to build graphs. There are 2 non-exclusive situations. On the one hand, there is a cartography of routes of the different lines and branches and you want to establish stops using a regular interval in meters along that route.This situation is typical of bus routes.On the other hand, there is a cartography of stops and one of routes for the different lines and branches, for which you want to establish an order of passage. \n",
    "\n",
    "This notebook is nothing more than a helper in this task and facilitate the preparation of the dataset of stops. The final file will surely need custom and handmade editions with other criteria in mind. Final dataset must be named `stops.csv` and saved into `data/data_ciudad/`. If it has another name, it must be specified in `general_configurations.yaml` in the `stops_file_name` parameter.\n",
    "\n",
    "It is important to clarify that `urbantrips` requires a single line for each branch. So the direction of the route  is not considered. Only one should be taken to build the stops. In the event that there are differences in the route, it can be redrawn so that it passes through a midpoint and continues to be a representative route of the branch."
   ]
  },
  {
   "cell_type": "code",
   "execution_count": null,
   "id": "9b7e8459",
   "metadata": {},
   "outputs": [],
   "source": [
    "import os\n",
    "import pandas as pd\n",
    "import geopandas as gpd\n",
    "from urbantrips.carto import stops, routes\n",
    "from urbantrips.utils import utils\n",
    "import networkx as nx\n",
    "import osmnx as ox"
   ]
  },
  {
   "cell_type": "markdown",
   "id": "5422fbe7",
   "metadata": {},
   "source": [
    "Reemplace `PATH` con a ruta al directorio donde fue clonado el repositorio de `urbantrips` para que lea correctamente el archivo de configs.\n",
    "___\n",
    "\n",
    "Replace `PATH` with the path to the directory where the `urbantrips` repository was cloned so that it reads the configs file correctly."
   ]
  },
  {
   "cell_type": "code",
   "execution_count": null,
   "id": "2a0b9a5a",
   "metadata": {},
   "outputs": [],
   "source": [
    "URBANTRIPS_PATH = \"[PATH]\"\n",
    "\n",
    "os.chdir(URBANTRIPS_PATH)\n",
    "\n",
    "configs = utils.leer_configs_generales()\n",
    "geojson_path = os.path.join(URBANTRIPS_PATH,\"data\",\"data_ciudad\",configs['recorridos_geojson'])\n"
   ]
  },
  {
   "cell_type": "markdown",
   "id": "74f29179",
   "metadata": {},
   "source": [
    "## 1. Proyectar paradas sobre recorridos - Project stops over routes\n",
    "\n",
    "\n",
    "A partir de cada linea se establece una parada cada determinada cantidad de metros (definda por el parámetro `stops_distance` que debe estar como atributo en el geojson de los recorridos). A la hora de armar los recorridos como un grafo, y permitir transbordo dentro de ramales en una misma linea, se agregan paradas en mismo nodo. El criterio es agregar todas las paradas que esten a una determinada distancia entre sí. Este parámetro se fija parada cada `id_linea` en `line_stops_buffer` (que también debe estar como atributo en el geojson de los recorridos).\n",
    "\n",
    "Este notebook sigue paso a paso este proceso y permite tunear el parámetro `line_stops_buffer` para cada linea, volviendo a guardar el resultado en el geojson de los recorridos.\n",
    "\n",
    "El dataset de recorridos disponible en el repositorio es usado como ejemplo.\n",
    "___\n",
    "\n",
    "From each line, a stop is interpolated every certain number of meters (defined by the `stops_distance` parameter, which must be an attribute in the geojson of the routes). When building the routes as a graph, and allowing transfers within branches on the same line, stops are added at the same node. The criterion is to add all the stops that are at a certain distance from each other. This parameter sets each `id_linea` stop in `line_stops_buffer` (which must also be an attribute in the geojson of the routes).\n",
    "\n",
    "This notebook follows this process step by step and allows you to tune the `line_stops_buffer` parameter for each line, saving the result back to the geojson of the tracks.\n",
    "\n",
    "The track dataset available in the repository is used as an example.\n"
   ]
  },
  {
   "cell_type": "code",
   "execution_count": null,
   "id": "9182e38c",
   "metadata": {},
   "outputs": [],
   "source": [
    "gdf = gpd.read_file(geojson_path)\n",
    "gdf.head(3)"
   ]
  },
  {
   "cell_type": "markdown",
   "id": "c0cbbc81",
   "metadata": {},
   "source": [
    "A partir de los recorridos y el parámetro presente en `stops_distance` en el dataset para cada linea/ramal, se crearon las siguientes paradas.\n",
    "\n",
    "____\n",
    "\n",
    "From the routes and the parameter present in `stops_distance` in the dataset for each line/branch, the following stops were created."
   ]
  },
  {
   "cell_type": "code",
   "execution_count": null,
   "id": "ce61c33c",
   "metadata": {},
   "outputs": [],
   "source": [
    "stops_gdf = stops.create_line_stops_equal_interval(geojson_path)\n",
    "stops_gdf.head(3)"
   ]
  },
  {
   "cell_type": "markdown",
   "id": "727418a2",
   "metadata": {},
   "source": [
    "Se puede chequear para cada linea la ubicación de las paradas interpoladas\n",
    "\n",
    "___\n",
    "\n",
    "You can check for each line the location of the interpolated stops"
   ]
  },
  {
   "cell_type": "code",
   "execution_count": null,
   "id": "28aa16e8",
   "metadata": {},
   "outputs": [],
   "source": [
    "stops_gdf.explore(column = 'id_linea', categorical = True,tiles=\"CartoDB positron\",\n",
    "                  marker_kwds = {'radius':10}, cmap='Set2')"
   ]
  },
  {
   "cell_type": "markdown",
   "id": "548c90d7",
   "metadata": {},
   "source": [
    "En esta viz puede chequear el orden de las paradas en el ramal para ver que sea incremental y continuo.\n",
    "\n",
    "____\n",
    "\n",
    "In this viz you can check the order of the stops in the branch to see that it is incremental and continuous."
   ]
  },
  {
   "cell_type": "code",
   "execution_count": null,
   "id": "cfa48690",
   "metadata": {},
   "outputs": [],
   "source": [
    "id_ramal = 0\n",
    "stops_gdf.query(f\"id_ramal == {id_ramal}\").explore(column = 'branch_stop_order',\n",
    "                                                   categorical = True,tiles=\"CartoDB positron\",\n",
    "                                                   marker_kwds = {'radius':10})"
   ]
  },
  {
   "cell_type": "markdown",
   "id": "c7a8300a",
   "metadata": {},
   "source": [
    "Ahora se puede tunear el parámetro `line_stops_buffer` para cada linea. \n",
    "\n",
    "Lo ideal es que no se hayan eliminado demasiadas paradas ni que queden demasiadas superpuestas. \n",
    "\n",
    "Si hay muy pocas paradas y son demasiadas las que fueron fusionadas en un solo `node_id` entonces utilizar un \n",
    "`line_stops_buffer` más conservador, de menor valor.\n",
    "\n",
    "Si son demasiadas paradas y se desea fusionar algunas más, elegir un `line_stops_buffer` mayor.\n",
    "\n",
    "Para la linea `143` con 2 ramales (que sigue el recorrido de la linea 12 de CABA) ligeras diferencias en el recorrido hace que se interpolen paradas demasiado cerca entre si para los dos ramales. Si se utiliza `line_stops_buffer = 50` estan quedarán duplicadas, pero si se utiliza `line_stops_buffer = 100` se fusionaran en una sola parada, en especial donde ambos ramales se superponen.\n",
    "\n",
    "___\n",
    "You can now tune the `line_stops_buffer` parameter for each line.\n",
    "\n",
    "Ideally, not too many stops have been removed or too many overlapping ones.\n",
    "\n",
    "If there are too few stops and too many were merged into a single `node_id` then use a\n",
    "`line_stops_buffer` more conservative, lower value.\n",
    "\n",
    "If there are too many stops and you want to merge some more, choose a larger `line_stops_buffer`.\n",
    "\n",
    "For line `143` with 2 branches (which follows the route of line 12 of CABA) slight differences in the route mean that stops are interpolated too close to each other for the two branches. If `line_stops_buffer = 50` is used they will be duplicated, but if `line_stops_buffer = 100` is used they will be merged into a single stop, especially where both branches overlap."
   ]
  },
  {
   "cell_type": "code",
   "execution_count": null,
   "id": "9ca2e043",
   "metadata": {},
   "outputs": [],
   "source": [
    "# Elegir linea y parametros\n",
    "id_linea = 143\n",
    "line_stops_buffer = 100\n",
    "\n",
    "line_stops_gdf = stops_gdf.loc[stops_gdf.id_linea == id_linea,:]\n",
    "line_stops_gdf.loc[:,['line_stops_buffer']] = line_stops_buffer\n",
    "\n",
    "# Agregar a node_id\n",
    "stops_with_node_id = stops.create_node_id(line_stops_gdf)\n",
    "\n",
    "# GDF para visualizar\n",
    "geometry = gpd.points_from_xy(stops_with_node_id['node_x'], stops_with_node_id['node_y'], crs= 'EPSG:4326')\n",
    "stops_with_node_id_gdf = gpd.GeoDataFrame(stops_with_node_id,geometry=geometry,crs = f\"EPSG:4326\")\n",
    "stops_with_node_id_gdf.explore(color = 'red',tiles=\"CartoDB positron\", marker_kwds = {'radius':10})"
   ]
  },
  {
   "cell_type": "markdown",
   "id": "c9f623f7",
   "metadata": {},
   "source": [
    "Si el parámetro es correcto se puede agregar al dataset y guardarlo en el mismo geojson\n",
    "\n",
    "___\n",
    "\n",
    "If the parameter is correct, it can be added to the dataset and saved in the same geojson"
   ]
  },
  {
   "cell_type": "code",
   "execution_count": null,
   "id": "c9a3140f",
   "metadata": {},
   "outputs": [],
   "source": [
    "geojson_data = gpd.read_file(geojson_path)\n",
    "geojson_data.loc[geojson_data.id_linea == id_linea,['line_stops_buffer']] = line_stops_buffer\n",
    "geojson_data.to_file(geojson_path, driver='GeoJSON')"
   ]
  },
  {
   "cell_type": "markdown",
   "id": "b6e19581",
   "metadata": {},
   "source": [
    "Una vez que el parámetro `line_stops_buffer` ha sido satisfactoriamente agregado para cada `id_linea`, puede correr `stops.create_temporary_stops_csv_with_node_id(geojson_path)` que dejará guardado el dataset de paradas con orden y `node_id` con el nombre `temporary_stops.csv`. Si lo desea puede agregar otro set de paradas que se haya confeccionado manualmente, pero debe tener la misma esctructura. Esto puede ser util para cuando se decide crear de modo manual un dataset de estas características para modos como el metro o el tren. El archivo final para crear los grafos de lineas y ramales debe llamarse `stops.csv`.\n",
    "\n",
    "___\n",
    "\n",
    "Once the `line_stops_buffer` parameter has been successfully added for each `line_id`, you can run `stops.create_temporary_stops_csv_with_node_id(geojson_path)` which will save in`temporary_stops.csv` the stops dataset with order and `node_id`. If you wish, you can add another set of stops that has been created manually, but it must have the same structure. This can be useful when it is decided to manually create a dataset of these characteristics for modes such as the subway or the train. The final csv file to be used to create the line and branches graphs must be named `stops.csv`.\n"
   ]
  },
  {
   "cell_type": "code",
   "execution_count": null,
   "id": "b9be1740",
   "metadata": {},
   "outputs": [],
   "source": [
    "stops.create_temporary_stops_csv_with_node_id(geojson_path)"
   ]
  },
  {
   "cell_type": "markdown",
   "id": "b025e982",
   "metadata": {},
   "source": [
    "## 2. Tomando paradas y recorridos, establecer orden de paso y node_id - From stops and routes, set order and node_id  \n",
    "\n",
    "\n",
    "En algunas ocasiones, por ejemplo con modos guiados como trenes y metros, subtes, tranvías, normalmente se tiene una cartografía de paradas o estaciones junto con una de recorridos para las diferentes lineas y ramales. Lo que queda por hacer entonces para que `Urbantrips` pueda utilizarlas es, por un lado, establecer un orden de paso y, por el otro, fusionar dos estaciones donde se pueda hacer transbordo entre ramales de una misma linea, asignándoles un mismo `node_id` que luego será utilizado en el grafo. Como para esto es necesario establecer un parametro de cercania en metros, se utilizará la CRS en metros especificada en `configs`. En esta parte del notebook veremos como realizar esta tarea. \n",
    "___\n",
    "\n",
    "On some occasions, for example with guided modes such as trains and subways, subways, trams, there is normally a cartography of stops or stations together with one of routes for the different lines and branches. What remains to be done then so that `Urbantrips` can use them is, on the one hand, to establish an order of passage and, on the other, to merge two stations where it is possible to transfer between branches of the same line, assigning them the same `node_id ` which will then be used in the graph. As for this it is necessary to establish a proximity parameter in meters, the CRS in meters specified in `configs` will be used.  In this part of the notebook we will see how to perform this task."
   ]
  },
  {
   "cell_type": "code",
   "execution_count": null,
   "id": "71f79dde",
   "metadata": {},
   "outputs": [],
   "source": [
    "# some helper functions\n",
    "def create_stops_with_branch_stop_order(stops_gdf,routes_gdf):\n",
    "    # add route geom to the stop geom\n",
    "    stops_with_order = stops_gdf.merge(routes_gdf,\n",
    "                                       how = 'left',\n",
    "                                       on = ['id_linea','id_ramal'],\n",
    "                                      suffixes = ('_stops','_routes'))\n",
    "    # project stop on route\n",
    "    stops_with_order['order'] = stops_with_order.apply(project_stop,axis=1)\n",
    "    \n",
    "    # create a branch stop order\n",
    "    branch_stop_order = stops_with_order.groupby(['id_linea','id_ramal']).apply(create_branch_stop_order)\n",
    "    branch_stop_order.index = branch_stop_order.index.droplevel([0,1])\n",
    "    stops_with_branch_order = stops_with_order.join(branch_stop_order)\n",
    "\n",
    "    # set schema\n",
    "    stops_with_branch_order = stops_with_branch_order\\\n",
    "        .reindex(columns = ['id_linea','id_ramal','branch_stop_order','geometry_stops'])\\\n",
    "        .rename(columns = {'geometry_stops':'geometry'})\n",
    "\n",
    "    # turn into geodataframe\n",
    "    stops_with_branch_order = gpd.GeoDataFrame(stops_with_branch_order, geometry = 'geometry', crs = stops_gdf.crs)\n",
    "    \n",
    "    return stops_with_branch_order\n",
    "\n",
    "\n",
    "def project_stop(row):\n",
    "    return row.geometry_routes.project(row.geometry_stops, normalized=True)\n",
    "\n",
    "def create_branch_stop_order(df):\n",
    "    df = df.sort_values('order')\n",
    "    return pd.Series(range(len(df)), index = df.index, name = 'branch_stop_order')"
   ]
  },
  {
   "cell_type": "markdown",
   "id": "3c2be9af",
   "metadata": {},
   "source": [
    "Utilizaremos la misma cartografía de de paradas y de rutas utilizadas en el ejemplo anterior que forman parte de los tests de `Urbantrips`.\n",
    "\n",
    "___\n",
    "\n",
    "We will use the same cartography of stops and routes used in the previous example that are part of the `Urbantrips` tests."
   ]
  },
  {
   "cell_type": "code",
   "execution_count": null,
   "id": "2c1e09ef",
   "metadata": {},
   "outputs": [],
   "source": [
    "#read routes geoms\n",
    "routes_gdf = gpd.read_file(geojson_path)\n",
    "routes_gdf = routes_gdf.reindex(columns = ['id_linea','id_ramal','geometry'])\n",
    "\n",
    "#read stops geoms\n",
    "stops_gdf = stops.create_line_stops_equal_interval(geojson_path)\n",
    "stops_gdf = stops_gdf.reindex(columns = ['id_linea','id_ramal','geometry'])"
   ]
  },
  {
   "cell_type": "markdown",
   "id": "4e0148ab",
   "metadata": {},
   "source": [
    "Como se puede ver se trata de 2 ramales diferentes, donde uno se extiende más que el otro. En el tramo en común, se superponen muchas paradas. \n",
    "\n",
    "___\n",
    "\n",
    "These are 2 different branches, where one extends more than the other. In the common section, many stops overlap."
   ]
  },
  {
   "cell_type": "code",
   "execution_count": null,
   "id": "9166e97e",
   "metadata": {},
   "outputs": [],
   "source": [
    "stops_gdf\\\n",
    "    .query(\"id_linea == 143\")\\\n",
    "    .explore(\n",
    "        column = 'id_ramal',\n",
    "        tiles=\"CartoDB positron\",categorical = True,\n",
    "        marker_kwds = {'radius':10},\n",
    "        cmap='Paired'\n",
    "    )"
   ]
  },
  {
   "cell_type": "markdown",
   "id": "02326bf5",
   "metadata": {},
   "source": [
    "Se establecerá un orden de paso para cada parada en base al recorrido del ramal. Al visualizar utilizando el atributo `branch_stop_order` se puede ver el orden de paso creciente en sentido norte.\n",
    "\n",
    "___\n",
    "\n",
    "An order of passage will be established for each stop based on the route of the branch. When displaying using the `branch_stop_order` attribute you can see the increasing step order northbound"
   ]
  },
  {
   "cell_type": "code",
   "execution_count": null,
   "id": "b8c27d48",
   "metadata": {},
   "outputs": [],
   "source": [
    "stops_with_branch_order = create_stops_with_branch_stop_order(stops_gdf,routes_gdf)\n",
    "stops_with_branch_order\\\n",
    "    .query(\"id_linea == 143\")\\\n",
    "    .explore(\n",
    "        column = 'branch_stop_order',\n",
    "        tiles=\"CartoDB positron\",\n",
    "        marker_kwds = {'radius':10}\n",
    "    )"
   ]
  },
  {
   "cell_type": "markdown",
   "id": "9d32205d",
   "metadata": {},
   "source": [
    "Una vez establecido el orden de paso, es necesario fusionar las paradas que están demasiado cerca entre sí como para suponer que en realidad constituyen la misma parada. Para eso se establece un parametro de cercania en metros. El mismo puede ser el mismo para todas las lineas o variar para cada linea, para reflejar particularidades de cada una. Se agrega como atributo al dataset, lo mismo que las coordenadas.\n",
    "\n",
    "____\n",
    "\n",
    "Once the order of passage is established, it is necessary to merge stops that are too close to each other to assume that they are actually the same stop. For that, a proximity parameter is established in meters. The same can be the same for all the lines or vary for each line, to reflect special situations in each one. It is added as an attribute to the dataset, as the coordinates."
   ]
  },
  {
   "cell_type": "code",
   "execution_count": null,
   "id": "8f9194a7",
   "metadata": {},
   "outputs": [],
   "source": [
    "line_stops_buffer = {\n",
    "    143:100,\n",
    "    48:80\n",
    "}\n",
    "stops_with_branch_order.loc[:,['line_stops_buffer']] = stops_with_branch_order.id_linea.replace(line_stops_buffer)\n",
    "\n",
    "\n",
    "stops_with_node_id = stops.aggregate_line_stops_to_node_id(stops_with_branch_order)"
   ]
  },
  {
   "cell_type": "markdown",
   "id": "e354a3ba",
   "metadata": {},
   "source": [
    "Convertimos el DataFrame en un GeoDataFrame para explorarlo utilizando el `node_id` para colorear.\n",
    " \n",
    "___\n",
    " \n",
    "Turn DataFrame into GeoDataFrame to explore with `node_id` for coloring.\n",
    " \n",
    " "
   ]
  },
  {
   "cell_type": "code",
   "execution_count": null,
   "id": "40ac0f07",
   "metadata": {},
   "outputs": [],
   "source": [
    "line_stops = stops_with_node_id.query(\"id_linea == 143\").copy()\n",
    "\n",
    "line_stops_gdf = gpd.GeoDataFrame(\n",
    "    line_stops,\n",
    "    geometry = gpd.GeoSeries.from_xy(x=line_stops.node_x,y=line_stops.node_y),\n",
    "    crs = f\"EPSG:4326\")\n",
    "\n",
    "line_stops_gdf.query(\"id_linea == 143\").explore(column = 'node_id',\n",
    "                                                      tiles=\"CartoDB positron\",\n",
    "                                            marker_kwds = {'radius':10})"
   ]
  },
  {
   "cell_type": "markdown",
   "id": "a028f142",
   "metadata": {},
   "source": [
    "Por último, para cada ramal se produce un grafo en base a los `node_id` y ordenados por el orden de paso del ramal. Luego, se fusionan todos los grafos del ramal en un grafo único de la linea. Esto permite que cuando un usuario se suba en un ramal de la linea (por ejemplo un ramal del metro o subte) y se baje en una estación de otro ramal (sin que las transacciones en la tarjeta marquen este transbordo) se pueda computar una distancia recorrida y una ruta de viaje dentro de la linea.\n",
    "\n",
    "____\n",
    "\n",
    "\n",
    "Finally, for each branch, a graph is produced based on the `node_id` and ordered by the order of passage of the branch. Then, all branch's graphs are merged into a single line graph. So when a user gets on a branch of the line (for example, a metro or subway branch) and gets off at a station on another branch (without card transactions detecting this transfer), a distance traveled in meters can be computed as well as a travel route within the line."
   ]
  },
  {
   "cell_type": "code",
   "execution_count": null,
   "id": "f213ed33",
   "metadata": {},
   "outputs": [],
   "source": [
    "branches_id = line_stops.id_ramal.unique()\n",
    "\n",
    "G_line = nx.compose_all([routes.create_branch_g_from_stops_df(\n",
    "        line_stops, branch_id) for branch_id in branches_id])\n",
    "\n",
    "fig, ax = ox.plot_graph(G_line, save=False)"
   ]
  },
  {
   "cell_type": "markdown",
   "id": "250e1477",
   "metadata": {},
   "source": [
    "Esto puede verse mucho mejor utilizando la otra linea con más ramales que se bifurcan. Si se simula un viaje con un origen y un destino se puede rutear a lo largo del grafo, obteniendo la ruta y la distancia recorrida.\n",
    "\n",
    "Justamente por tener más ramales se utilizó un parámetro de cercanía menor (`line_stops_buffer`), porque al haber tantos ramales y tantas paradas demasiado cerca, podría fusionar demasiadas paradas en una sola, sobre-simplificando el grafo. Las paradas de esta linea seguramente se vean beneficiadas de algunos ajustes manuales para que el grafo se arme de la mejor manera.\n",
    "___\n",
    "\n",
    "\n",
    "This can be seen much better using the other line with more branches that branch off. If a trip with an origin and a destination is simulated, it can be routed along the graph, obtaining the route and the distance traveled.\n",
    "\n",
    "Precisely because it has more branches, a smaller proximity parameter (`line_stops_buffer`) was used, because having so many branches and so many stops too close, it could merge too many stops, over-simplifying the graph. The stops on this line will surely benefit from some manual adjustments so that the graph is assembled in the best way.\n",
    "\n"
   ]
  },
  {
   "cell_type": "code",
   "execution_count": null,
   "id": "ab13710e",
   "metadata": {},
   "outputs": [],
   "source": [
    "line_stops = stops_with_node_id.query(f\"id_linea == 48\").copy()\n",
    "branches_id = line_stops.id_ramal.unique()\n",
    "\n",
    "G_line = nx.compose_all([routes.create_branch_g_from_stops_df(\n",
    "        line_stops, branch_id) for branch_id in branches_id])\n",
    "\n",
    "o_y,o_x = -34.573455, -58.439341\n",
    "d_y,d_x = -34.617003, -58.379984\n",
    "\n",
    "orig = ox.distance.nearest_nodes(G_line, X=o_x, Y=o_y)\n",
    "dest = ox.distance.nearest_nodes(G_line, X=d_x, Y=d_y)  \n",
    "\n",
    "route = ox.shortest_path(G_line, orig, dest, weight=\"length\")\n",
    "fig, ax = ox.plot_graph_route(G_line, route, node_size=0)\n",
    "\n",
    "\n",
    "edge_lengths = ox.utils_graph.get_route_edge_attributes(G_line, route, \"length\")\n",
    "print(f\"El viaje recorrió {round(sum(edge_lengths))} metros\")"
   ]
  },
  {
   "cell_type": "markdown",
   "id": "191d233b",
   "metadata": {},
   "source": [
    "Si el resultado es satisfactorio o quiere usarse ese archivo csv para introducir cambios manuales puede guardarse.\n",
    "\n",
    "___\n",
    "\n",
    "If the result is satisfactory or you want to use that csv file to introduce manual changes it can be saved."
   ]
  },
  {
   "cell_type": "code",
   "execution_count": null,
   "id": "87515b3d",
   "metadata": {},
   "outputs": [],
   "source": [
    "temp_stops_csv_path = os.path.join(URBANTRIPS_PATH,\"data\",\"data_ciudad\",\"temporary_stops_train_subway.csv\")\n",
    "\n",
    "stops_with_node_id.to_csv(temp_stops_csv_path,index=False)"
   ]
  }
 ],
 "metadata": {
  "kernelspec": {
   "display_name": "urbantrips_desarrollo",
   "language": "python",
   "name": "urbantrips_desarrollo"
  },
  "language_info": {
   "codemirror_mode": {
    "name": "ipython",
    "version": 3
   },
   "file_extension": ".py",
   "mimetype": "text/x-python",
   "name": "python",
   "nbconvert_exporter": "python",
   "pygments_lexer": "ipython3",
   "version": "3.10.12"
  }
 },
 "nbformat": 4,
 "nbformat_minor": 5
}
