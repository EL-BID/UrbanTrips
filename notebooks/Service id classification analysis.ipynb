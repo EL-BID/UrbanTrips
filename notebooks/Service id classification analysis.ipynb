{
 "cells": [
  {
   "cell_type": "code",
   "execution_count": null,
   "id": "d08d02b0",
   "metadata": {},
   "outputs": [],
   "source": [
    "import os\n",
    "import pandas as pd\n",
    "import geopandas as gpd\n",
    "import folium\n",
    "from shapely import wkt\n",
    "\n",
    "from urbantrips.carto import stops\n",
    "from urbantrips.utils import utils\n",
    "from urbantrips.datamodel import services"
   ]
  },
  {
   "cell_type": "code",
   "execution_count": null,
   "id": "27c9b89e",
   "metadata": {},
   "outputs": [],
   "source": [
    "def manual_change_in_node_coords(stops,id_linea,poligon_wkt,node_coords = False):\n",
    "    poligon = wkt.loads(poligon_wkt)\n",
    "    print(f\"Cambiando stops para ID linea {id_linea}\")\n",
    "    temp_stops_line_stops = stops.loc[stops.id_linea==id_linea,:]\n",
    "\n",
    "    temp_stops_line_stops = gpd.GeoDataFrame(temp_stops_line_stops,\n",
    "                                 geometry = gpd.GeoSeries.from_xy(\n",
    "                                     x=temp_stops_line_stops.stop_x,\n",
    "                                     y=temp_stops_line_stops.stop_y, crs='EPSG:4326'),\n",
    "                                 crs='EPSG:4326')\n",
    "\n",
    "    stops_to_change = temp_stops_line_stops.loc[temp_stops_line_stops.geometry.map(lambda g: g.intersects(poligon)),:]\n",
    "    print(\"Cantidad de paradas a cambiar\",len(stops_to_change))\n",
    "\n",
    "    ids_stops_to_change = stops_to_change.index\n",
    "    stops_to_keep = stops.loc[~stops.index.isin(ids_stops_to_change),:]\n",
    "    print(\"Cantidad de paradas que permanecen igual\",len(stops_to_keep))\n",
    "\n",
    "    # split \n",
    "    node_id = stops_to_change.node_id.iloc[0]\n",
    "    change_node_id = {k:node_id for k in stops_to_change.node_id}\n",
    "    stops_to_change.loc[:,['node_id']] = stops_to_change['node_id'].replace(change_node_id)\n",
    "\n",
    "     \n",
    "    # If a set of node coords are given \n",
    "    if node_coords:\n",
    "        stops_to_change.loc[:, 'node_x'] = node_coords[0]\n",
    "        stops_to_change.loc[:, 'node_y'] = node_coords[1]\n",
    "\n",
    "    else:\n",
    "        # Creat a latlong using average stops coords for that node\n",
    "        x_new_long = stops_to_change.groupby('node_id').apply(\n",
    "            lambda df: df.stop_x.mean()).to_dict()\n",
    "        y_new_long = stops_to_change.groupby('node_id').apply(\n",
    "            lambda df: df.stop_y.mean()).to_dict()\n",
    "\n",
    "        stops_to_change.loc[:, 'node_x'] = stops_to_change['node_id'].replace(x_new_long)\n",
    "        stops_to_change.loc[:, 'node_y'] = stops_to_change['node_id'].replace(y_new_long)\n",
    "\n",
    "\n",
    "\n",
    "    stops_to_change = stops_to_change.drop('geometry',axis=1)\n",
    "    new_stops = pd.concat([stops_to_keep,stops_to_change])\n",
    "    \n",
    "    linea_data = new_stops.loc[new_stops.id_linea==id_linea,:]\n",
    "    changed_stops_gdf = gpd.GeoDataFrame(linea_data,\n",
    "                                 geometry = gpd.GeoSeries.from_xy(\n",
    "                                     x=linea_data.node_x,\n",
    "                                     y=linea_data.node_y, crs='EPSG:4326'),\n",
    "                                 crs='EPSG:4326')\n",
    "    return new_stops, changed_stops_gdf\n",
    "    "
   ]
  },
  {
   "cell_type": "code",
   "execution_count": null,
   "id": "73f5640f",
   "metadata": {},
   "outputs": [],
   "source": [
    "URBANTRIPS_PATH = \"[PATH]\"\n",
    "\n",
    "os.chdir(URBANTRIPS_PATH)\n",
    "\n",
    "configs = utils.leer_configs_generales()\n",
    "conn_data = utils.iniciar_conexion_db(tipo='data')\n",
    "conn_insumos = utils.iniciar_conexion_db(tipo='insumos')"
   ]
  },
  {
   "cell_type": "markdown",
   "id": "d9946336",
   "metadata": {},
   "source": [
    "Este notebook sirve para una vez corrido el proceso `services.process_services()` analizar los resultados y evaluar si hubo errores en la clasificación de servicios. Esto puede deberse a movimientos herráticos del vehículo pero también a una disposición de paradas (y los nodos a los cuales están asignadas). Pueden existir recorridos de colectivos que vayan y vuelvan por una misma calle o una calle paralela pero en un sentido en un momento y en otro sentido en otro (importante recordar que los recorridos tomados aquí son de sentido único tal como se explica en el notebook  `stops_creation_with_node_id_helper`). \n",
    "\n",
    "Este notebook permite introducir modificaciones en esas paradas, simplificandolas en un mismo `node` de modo que la traza de puntos gps no marque un cambio de sentido en el paso de paradas. \n"
   ]
  },
  {
   "cell_type": "markdown",
   "id": "478a0684",
   "metadata": {},
   "source": [
    "# 1. Detectar el problema\n",
    "\n",
    "Se elegiriá trabajar con una linea por vez. Primero se obtienen los servicios y los registros de esa linea (puntos gps y paradas)."
   ]
  },
  {
   "cell_type": "code",
   "execution_count": null,
   "id": "93958c0b",
   "metadata": {},
   "outputs": [],
   "source": [
    "query = \"select * from services_stats order by servicios_originales_sin_dividir limit 5\"\n",
    "services_stats = pd.read_sql(query, conn_data)\n",
    "services_stats"
   ]
  },
  {
   "cell_type": "code",
   "execution_count": null,
   "id": "6a6a0667",
   "metadata": {},
   "outputs": [],
   "source": [
    "selected_line_id = 1"
   ]
  },
  {
   "cell_type": "code",
   "execution_count": null,
   "id": "1979eac2",
   "metadata": {},
   "outputs": [],
   "source": [
    "line_stops_gdf = pd.read_sql(f\"select * from stops where id_linea = {selected_line_id}\", conn_insumos)\n",
    "# use only nodes as stops\n",
    "line_stops_gdf = line_stops_gdf.drop_duplicates(subset = ['id_linea','id_ramal','node_id'])\n",
    "line_stops_gdf = gpd.GeoDataFrame(line_stops_gdf,\n",
    "                             geometry = gpd.GeoSeries.from_xy(\n",
    "                                 x=line_stops_gdf.node_x, y=line_stops_gdf.node_y, crs='EPSG:4326'),\n",
    "                              crs='EPSG:4326'\n",
    "                             )\n",
    "line_stops_gdf = line_stops_gdf.to_crs(epsg=configs['epsg_m'])\n",
    "branches = line_stops_gdf.id_ramal.unique()\n",
    "\n",
    "q = f\"\"\"\n",
    "select dia,id_linea,id_ramal,interno, DATETIME(fecha,'unixepoch') as fecha,latitud,longitud,service_type,distance_km,h3 \n",
    "from gps \n",
    "where id_linea = {selected_line_id}\n",
    "order by dia, id_linea, interno, fecha \n",
    "\n",
    "\"\"\"\n",
    "\n",
    "gps_points = pd.read_sql(q, conn_data)    \n",
    "gps_points = gpd.GeoDataFrame(gps_points,\n",
    "                             geometry = gpd.GeoSeries.from_xy(\n",
    "                                 x=gps_points.longitud, y=gps_points.latitud, crs='EPSG:4326'),\n",
    "                              crs='EPSG:4326'\n",
    "                             )\n",
    "gps_points = gps_points.to_crs(epsg=configs['epsg_m'])\n"
   ]
  },
  {
   "cell_type": "markdown",
   "id": "486b38fc",
   "metadata": {},
   "source": [
    "Aquí se pueden ver las paradas de cada ramal de la línea."
   ]
  },
  {
   "cell_type": "code",
   "execution_count": null,
   "id": "e0c7fc04",
   "metadata": {},
   "outputs": [],
   "source": [
    "line_stops_gdf.explore(column = 'id_ramal',\n",
    "              tiles=\"CartoDB positron\",categorical = True,\n",
    "              cmap = 'tab10',\n",
    "              marker_kwds = {'radius':10})"
   ]
  },
  {
   "cell_type": "markdown",
   "id": "c67645b1",
   "metadata": {},
   "source": [
    "Se clasifican los servicios utilizando estas mismas paradas. Estos servicios no se subiran a la base de datos por ahora. Solo se utilizarán en el notebook."
   ]
  },
  {
   "cell_type": "code",
   "execution_count": null,
   "id": "f11311d2",
   "metadata": {},
   "outputs": [],
   "source": [
    "gps_points_with_new_service_id = gps_points\\\n",
    "        .groupby(['dia', 'interno'], as_index=False)\\\n",
    "        .apply(services.classify_line_gps_points_into_services,\n",
    "               line_stops_gdf=line_stops_gdf)\\\n",
    "        .droplevel(0)"
   ]
  },
  {
   "cell_type": "markdown",
   "id": "54fe65d0",
   "metadata": {},
   "source": [
    "Se puede elegir un interno de todos los que operaron ese día."
   ]
  },
  {
   "cell_type": "code",
   "execution_count": null,
   "id": "6d1cd5ac",
   "metadata": {},
   "outputs": [],
   "source": [
    "gps_points_with_new_service_id.reindex(columns = ['dia','interno']).drop_duplicates().sample(10)"
   ]
  },
  {
   "cell_type": "markdown",
   "id": "d7995b55",
   "metadata": {},
   "source": [
    "Se eelecciona el dia e interno que se quiere analizar y se observa dentro de cada servicio original (tal cual lo declara el conductor en la tabla gps) cuantos servicios nuevos fueron creados.   \n"
   ]
  },
  {
   "cell_type": "code",
   "execution_count": null,
   "id": "46e4d210",
   "metadata": {},
   "outputs": [],
   "source": [
    "selected_day = '2022-11-09'\n",
    "selected_vehicle = 1234\n",
    "\n",
    "basic_cols = ['id_ramal','fecha', 'majority', 'change','original_service_id','new_service_id', 'idling', 'service_id','geometry']\n",
    "b = [[f'order_{b}',f'distance_to_stop_{b}', f'temp_change_{b}', f'consistent_{b}',f'change_{b}'] for b in branches]\n",
    "branches_cols = [item for sublist in b for item in sublist]\n",
    "cols = basic_cols + branches_cols \n",
    "mask = (gps_points_with_new_service_id.interno ==  selected_vehicle) & (gps_points_with_new_service_id.dia == selected_day)\n",
    "\n",
    "vehicle_gps = gps_points_with_new_service_id.loc[mask,cols]\n",
    "\n",
    "pd.crosstab(vehicle_gps.original_service_id,vehicle_gps.service_id)"
   ]
  },
  {
   "cell_type": "markdown",
   "id": "2067f889",
   "metadata": {},
   "source": [
    "Puede elegirse el id de un servicio original tal cual se informaba en los datos gps para ver en cuántos servicios se subdividio y dónde."
   ]
  },
  {
   "cell_type": "code",
   "execution_count": null,
   "id": "46c96d61",
   "metadata": {},
   "outputs": [],
   "source": [
    "selected_original_service = 1\n",
    "service_gps = vehicle_gps.loc[vehicle_gps.original_service_id == selected_original_service,:]"
   ]
  },
  {
   "cell_type": "markdown",
   "id": "63443a7b",
   "metadata": {},
   "source": [
    "La siguiente visualización muestra ese servicio original con colores para cada servicio nuevo, junto con las paradas de la linea. Puede elegir entre capas con el selector ubicado arriba a la derecha. Se pueden dónde hay cambios de servicio que no están bien hecho, producto de las zonas donde hay paradas con muchos cambios de sentido que mejor convenga simplificar en un único `node`."
   ]
  },
  {
   "cell_type": "code",
   "execution_count": null,
   "id": "1cd601e2",
   "metadata": {},
   "outputs": [],
   "source": [
    "m = line_stops_gdf.explore(column = 'id_ramal',\n",
    "              tiles=\"CartoDB positron\",categorical = True,\n",
    "              cmap = 'tab10',\n",
    "              marker_kwds = {'radius':3}, name = 'Paradas')\n",
    "\n",
    "service_gps.explore(m=m,column = 'service_id',\n",
    "              tiles=\"CartoDB positron\",categorical = True,\n",
    "              cmap = 'tab10',\n",
    "              marker_kwds = {'radius':10}, name = 'GPS')\n",
    "\n",
    "if service_gps.change.any():\n",
    "    service_gps.query(\"change==True\").explore(m=m,color = 'red',\n",
    "                  tiles=\"CartoDB positron\",\n",
    "                  cmap = 'tab10',\n",
    "                  marker_kwds = {'radius':10}, name = 'Service id change')\n",
    "\n",
    "folium.LayerControl().add_to(m)\n",
    "\n",
    "m"
   ]
  },
  {
   "cell_type": "markdown",
   "id": "372e8828",
   "metadata": {},
   "source": [
    "## Debuggin\n",
    "\n",
    "Si el comportamiento no es el esperado si se quiere ver la referenciación de cada punto gps en los nodos de cada ramal, se puede correr la funcion que asigna el servicio para un interno y para un id de servicio original. Esto dejara las variables insumo utilizadas para evaluar un cambio en el orden de paso "
   ]
  },
  {
   "cell_type": "code",
   "execution_count": null,
   "id": "371114c7",
   "metadata": {},
   "outputs": [],
   "source": [
    "mask = (gps_points.interno ==  selected_vehicle)\\\n",
    "& (gps_points.dia == selected_day)\n",
    "\n",
    "debug_vehicle_data = gps_points.loc[mask,:]\n",
    "\n",
    "\n",
    "original_service_id = debug_vehicle_data\\\n",
    "    .reindex(columns=['dia', 'interno', 'service_type'])\\\n",
    "    .groupby(['dia', 'interno'])\\\n",
    "    .apply(services.create_original_service_id)\n",
    "original_service_id = original_service_id.service_type\n",
    "original_service_id = original_service_id.droplevel([0, 1])\n",
    "debug_vehicle_data['original_service_id'] = original_service_id\n",
    "\n",
    "\n",
    "debug_service_data = debug_vehicle_data.loc[debug_vehicle_data.original_service_id == selected_original_service,:]\n",
    "\n",
    "# run function on service to debug\n",
    "debug_service_data = services.infer_service_id_stops(debug_service_data,line_stops_gdf, debug=True)"
   ]
  },
  {
   "cell_type": "markdown",
   "id": "329345fc",
   "metadata": {},
   "source": [
    "# 2. Modificar las paradas en una zona a definir\n",
    "\n",
    "Puede introducirse un polígono en formato WKT para fusionar todas esas paradas en un mismo nodo y visualizar qué paradas afectaría. Para eso se puede usar un visualizador online para dibujar un polígono y obtener el WKT como [Cercalia](http://www.cercalia.com/api/v5/examples/digitalize.html). Tambien se puede proveer un par de coordenadas (formato xy) para el nuevo nodo, o dejarlo vacío y simplemente tomará el promedio de las paradas a modificar."
   ]
  },
  {
   "cell_type": "code",
   "execution_count": null,
   "id": "a87ce675",
   "metadata": {},
   "outputs": [],
   "source": [
    "poligon_wkt = 'POLYGON((-58.5573841856895 -34.566332360730115,-58.52528350819925 -34.56612032349501,-58.52528350819925 -34.578912268933784,-58.556525878804734 -34.578629595274634,-58.5573841856895 -34.566332360730115))'\n",
    "new_node_coord = (-58.536492,-34.567169)"
   ]
  },
  {
   "cell_type": "markdown",
   "id": "cfc9b165",
   "metadata": {},
   "source": [
    "Puede chequearse que ese polígono contenga las paradas que se desea modificar:"
   ]
  },
  {
   "cell_type": "code",
   "execution_count": null,
   "id": "f32a77be",
   "metadata": {},
   "outputs": [],
   "source": [
    "m = line_stops_gdf.explore(column = 'id_ramal',\n",
    "              tiles=\"CartoDB positron\",categorical = True,\n",
    "              cmap = 'tab10',\n",
    "              marker_kwds = {'radius':3}, name = 'Paradas')\n",
    "\n",
    "service_gps.explore(m=m,column = 'service_id',\n",
    "              tiles=\"CartoDB positron\",categorical = True,\n",
    "              cmap = 'tab10',\n",
    "              marker_kwds = {'radius':10}, name = 'GPS')\n",
    "\n",
    "poligon_series = gpd.GeoSeries(wkt.loads(poligon_wkt), crs='EPSG:4326')\n",
    "poligon_series.explore(m=m,color = '#00000077', name='Poligono')\n",
    "\n",
    "if new_node_coord:\n",
    "    folium.Marker(new_node_coord[::-1], name = 'Nuevo Nodo').add_to(m)\n",
    "    \n",
    "folium.LayerControl().add_to(m)\n",
    "m"
   ]
  },
  {
   "cell_type": "markdown",
   "id": "58a64796",
   "metadata": {},
   "source": [
    "A continuación se lee el archivo csv de paradas que utiliza `urbantrips` para producir la tabla `stops`. Este archivo será modificado en este notebook las veces que sea necesaria, para cada linea y cada intervencion con un polígono puntual. Luego si asi se desea será guardado con el mismo nombre, u otro (con lo cual habrá que cambiarlo en `configuraciones_generales.yaml`). Si el archivo sufre modificaciones, habrá que correr nuevamente el proceso que crea la tabla `stops` corriendo en este mismo notebook `stops.create_stops_table()`."
   ]
  },
  {
   "cell_type": "code",
   "execution_count": null,
   "id": "69ecbdbd",
   "metadata": {},
   "outputs": [],
   "source": [
    "stops_path = os.path.join(\"data\",\"data_ciudad\",configs['nombre_archivo_paradas'])\n",
    "original_stops = pd.read_csv(stops_path)\n",
    "print(\"Cantidad de paradas\",len(original_stops))"
   ]
  },
  {
   "cell_type": "code",
   "execution_count": null,
   "id": "540ef8f1",
   "metadata": {},
   "outputs": [],
   "source": [
    "modified_stops, stops_to_change_gdf = manual_change_in_node_coords(\n",
    "    stops = original_stops,\n",
    "    id_linea = selected_line_id,\n",
    "    poligon_wkt = poligon_wkt,\n",
    "    node_coords = new_node_coord)\n",
    "print('Cantidad de paradas modificadas',len(modified_stops))"
   ]
  },
  {
   "cell_type": "markdown",
   "id": "56c45efd",
   "metadata": {},
   "source": [
    "Al convertir estas nuevas en un GeoDataFrame utilizable para clasificar servicios, se puede volver a clasificar los servicios de ese vehículo para ese día. "
   ]
  },
  {
   "cell_type": "code",
   "execution_count": null,
   "id": "c758567a",
   "metadata": {},
   "outputs": [],
   "source": [
    "stops_to_change_gdf = stops_to_change_gdf\\\n",
    "    .drop_duplicates(subset = ['id_linea','id_ramal','node_id'])\\\n",
    "    .to_crs(epsg=configs['epsg_m'])\n",
    "\n",
    "mask = (gps_points.interno ==  selected_vehicle) & (gps_points.dia == selected_day)\n",
    "\n",
    "new_services = gps_points.loc[mask,:]\\\n",
    "        .groupby(['dia', 'interno'], as_index=False)\\\n",
    "        .apply(services.classify_line_gps_points_into_services,\n",
    "               line_stops_gdf=stops_to_change_gdf)\\\n",
    "        .droplevel(0)"
   ]
  },
  {
   "cell_type": "markdown",
   "id": "cef0e201",
   "metadata": {},
   "source": [
    "Ahora al observar cada servicio original y cuantas veces fue segmentado en nuevos servicios, se debería percibir un cambio"
   ]
  },
  {
   "cell_type": "code",
   "execution_count": null,
   "id": "f6b22f6f",
   "metadata": {},
   "outputs": [],
   "source": [
    "pd.crosstab(new_services.original_service_id,new_services.service_id)"
   ]
  },
  {
   "cell_type": "code",
   "execution_count": null,
   "id": "1d37a6cc",
   "metadata": {},
   "outputs": [],
   "source": [
    "new_service_gps = new_services.loc[new_services.original_service_id == selected_original_service,:]\n",
    "new_service_gps.service_id.value_counts()"
   ]
  },
  {
   "cell_type": "markdown",
   "id": "1e8e5d62",
   "metadata": {},
   "source": [
    "Se puede volver a visualizar:"
   ]
  },
  {
   "cell_type": "code",
   "execution_count": null,
   "id": "c84c1436",
   "metadata": {},
   "outputs": [],
   "source": [
    "m = stops_to_change_gdf.explore(column = 'id_ramal',\n",
    "              tiles=\"CartoDB positron\",categorical = True,\n",
    "              cmap = 'tab10',\n",
    "              marker_kwds = {'radius':3}, name = 'Paradas')\n",
    "\n",
    "new_service_gps.explore(m=m,column = 'service_id',\n",
    "              tiles=\"CartoDB positron\",categorical = True,\n",
    "              cmap = 'tab10',\n",
    "              marker_kwds = {'radius':10}, name = 'GPS')\n",
    "\n",
    "# this is completely optional\n",
    "folium.LayerControl().add_to(m)\n",
    "\n",
    "m"
   ]
  },
  {
   "cell_type": "markdown",
   "id": "52191f0b",
   "metadata": {},
   "source": [
    "Si existe otro punto problemático, puede replicarse el paso 2 aquí las veces que sea necesario, estableciendo un nuevo poligono de intervención, un nuevo par de coordenadas para el nodo y volver a correr  `manual_change_in_node_coords()` sobre el dataset de paradas ya intervenido previamente.\n",
    "\n",
    "Eventualmente, puede crearse un `yaml` con todas los cambios manuales con la siguiente estructura y luego iterar una función que haga los cambios, de modo que queden documentados:\n",
    "\n",
    "```yaml\n",
    "# un esquema es por id linea \n",
    "\n",
    "1: \n",
    "    - poligon_wkt: 'POLYGON((xxxyyy))'\n",
    "      new_node_coord: (xxx,yyyy)\n",
    "      \n",
    "    - poligon_wkt: 'POLYGON((xxxyyy))'\n",
    "      new_node_coord: (xxx,yyyy)\n",
    "2:\n",
    "    - poligon_wkt: 'POLYGON((xxxyyy))'\n",
    "      new_node_coord: (xxx,yyyy)\n",
    "      \n",
    "    - poligon_wkt: 'POLYGON((xxxyyy))'\n",
    "      new_node_coord: (xxx,yyyy)\n",
    "```"
   ]
  },
  {
   "cell_type": "markdown",
   "id": "4d6a6b92",
   "metadata": {},
   "source": [
    "# 3. Guardar los resultados \n",
    "\n",
    "Por un lado es necesario volver a guardar el csv. Se puede usar el mismo `stops_path` o un nuevo nombre de archivo (que deberá corregirse en `configuraciones_generales.yaml`."
   ]
  },
  {
   "cell_type": "code",
   "execution_count": null,
   "id": "9b8fabf1",
   "metadata": {},
   "outputs": [],
   "source": [
    "modified_stops_path = \"\"\n",
    "modified_stops.to_csv(modified_stops_path)"
   ]
  },
  {
   "cell_type": "markdown",
   "id": "5de643ad",
   "metadata": {},
   "source": [
    "Como las paradsa han sido modificadas, es necesario volver a subir las paradas con la funcion `stops.create_stops_table()`"
   ]
  },
  {
   "cell_type": "code",
   "execution_count": null,
   "id": "5ba59f3e",
   "metadata": {},
   "outputs": [],
   "source": [
    "#stops.create_stops_table()"
   ]
  },
  {
   "cell_type": "markdown",
   "id": "033e43d7",
   "metadata": {},
   "source": [
    "Luego es momento de volver a borrar los servicios para esta linea cuyos servicios fueron clasificados con un set de paradas que no era el mejor. Para eso utilizar `delete_services_data(id_linea)`"
   ]
  },
  {
   "cell_type": "code",
   "execution_count": null,
   "id": "ebe3e9b7",
   "metadata": {},
   "outputs": [],
   "source": [
    "#services.delete_services_data(selected_line_id)"
   ]
  },
  {
   "cell_type": "markdown",
   "id": "07592ff9",
   "metadata": {},
   "source": [
    "Ahora ya estamos en condiciones de volver a correr el proceso de clasificacion de servicios con `services.process_services()`"
   ]
  },
  {
   "cell_type": "code",
   "execution_count": null,
   "id": "ed0ecd38",
   "metadata": {},
   "outputs": [],
   "source": [
    "#services.process_services()"
   ]
  }
 ],
 "metadata": {
  "kernelspec": {
   "display_name": "urbantrips_desarrollo",
   "language": "python",
   "name": "urbantrips_desarrollo"
  },
  "language_info": {
   "codemirror_mode": {
    "name": "ipython",
    "version": 3
   },
   "file_extension": ".py",
   "mimetype": "text/x-python",
   "name": "python",
   "nbconvert_exporter": "python",
   "pygments_lexer": "ipython3",
   "version": "3.10.12"
  }
 },
 "nbformat": 4,
 "nbformat_minor": 5
}
