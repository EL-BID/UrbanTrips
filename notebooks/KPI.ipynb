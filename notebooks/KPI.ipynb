{
 "cells": [
  {
   "cell_type": "code",
   "execution_count": 1,
   "metadata": {},
   "outputs": [],
   "source": [
    "import os\n",
    "import pandas as pd\n",
    "from urbantrips.utils import utils\n",
    "from urbantrips.kpi.kpi import compute_route_section_load\n",
    "from urbantrips.viz.viz import visualize_route_section_load\n",
    "from urbantrips.kpi.line_od_matrix import compute_lines_od_matrix\n",
    "from urbantrips.viz.line_od_matrix import visualize_lines_od_matrix\n",
    "\n",
    "# Completar con el directorio donde se encuentra clonado e instalado el repositorio de UrbanTrips\n",
    "URBANTRIPS_PATH = \"/home/pipe/proyectos/urbantrips/ciudades/amba_2024/UrbanTrips\"\n",
    "\n",
    "os.chdir(URBANTRIPS_PATH)\n",
    "\n",
    "# Leer archivos de configuración y conexiones a las db\n",
    "configs = utils.leer_configs_generales()\n"
   ]
  },
  {
   "cell_type": "code",
   "execution_count": null,
   "metadata": {},
   "outputs": [],
   "source": [
    "conn_insumos = utils.iniciar_conexion_db(tipo='insumos')\n",
    "# Se leen los datos de las lineas\n",
    "metadata_lineas = pd.read_sql(\"select id_linea,nombre_linea, modo from metadata_lineas;\", conn_insumos)\n",
    "# Se puede buscar por nombre de linea que contenga alguna palabra o numero\n",
    "metadata_lineas[metadata_lineas.nombre_linea.str.contains(\"50\") #reemplazar 50 por lo que se desee\n",
    "                ]"
   ]
  },
  {
   "cell_type": "code",
   "execution_count": 7,
   "metadata": {},
   "outputs": [],
   "source": [
    "rango = [7,7]\n",
    "line_ids = [39,35]\n",
    "day_type = 'weekday'\n",
    "section_meters = 400\n",
    "n_sections = None"
   ]
  },
  {
   "cell_type": "code",
   "execution_count": null,
   "metadata": {},
   "outputs": [],
   "source": [
    "compute_lines_od_matrix?"
   ]
  },
  {
   "cell_type": "code",
   "execution_count": null,
   "metadata": {},
   "outputs": [],
   "source": [
    "compute_route_section_load(\n",
    "            line_ids=line_ids, hour_range=rango,\n",
    "            section_meters = section_meters,day_type=day_type)\n",
    "\n",
    "visualize_route_section_load(\n",
    "            line_ids=line_ids, hour_range=rango,\n",
    "            day_type=day_type, section_meters=section_meters,\n",
    "            save_gdf=True, stat='totals', \n",
    "            factor=500, factor_min=10)\n"
   ]
  },
  {
   "cell_type": "code",
   "execution_count": null,
   "metadata": {},
   "outputs": [],
   "source": [
    "\n",
    "compute_lines_od_matrix(\n",
    "    line_ids=line_ids, hour_range=rango,n_sections=n_sections,\n",
    "    section_meters=section_meters, day_type=day_type, save_csv=True\n",
    ")\n",
    "visualize_lines_od_matrix(\n",
    "    line_ids=line_ids, hour_range=rango,\n",
    "    day_type=day_type, n_sections=n_sections,section_meters=section_meters,\n",
    "      stat='totals')"
   ]
  },
  {
   "cell_type": "code",
   "execution_count": null,
   "metadata": {},
   "outputs": [],
   "source": []
  }
 ],
 "metadata": {
  "kernelspec": {
   "display_name": "venv",
   "language": "python",
   "name": "python3"
  },
  "language_info": {
   "codemirror_mode": {
    "name": "ipython",
    "version": 3
   },
   "file_extension": ".py",
   "mimetype": "text/x-python",
   "name": "python",
   "nbconvert_exporter": "python",
   "pygments_lexer": "ipython3",
   "version": "3.10.15"
  }
 },
 "nbformat": 4,
 "nbformat_minor": 2
}
