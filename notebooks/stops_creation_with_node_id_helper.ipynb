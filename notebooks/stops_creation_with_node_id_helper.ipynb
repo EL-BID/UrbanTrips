{
 "cells": [
  {
   "cell_type": "markdown",
   "id": "156a1806",
   "metadata": {},
   "source": [
    "# Visualizador de creación de paradas y nodos\n",
    "\n",
    "Este notebook es una herramienta para crear a partir de los recorridos de las lineas un dataset de paradas. A partir de cada linea se interpola una parada cada determinada cantidad de metros (definda por el parámetro `stops_distance` que debe estar como atributo en el geojson de los recorridos). A la hora de armar los recorridos como un grafo, y permitir transbordo dentro de ramales en una misma linea, se agregan paradas en mismo nodo. El criterio es agregar todas las paradas que esten a una determinada distancia entre sí. Este parámetro se fija parada cada `id_linea` en `line_stops_buffer` (que también debe estar como atributo en el geojson de los recorridos).\n",
    "\n",
    "Este notebook sigue paso a paso este proceso y permite tunear el parámetro `line_stops_buffer` para cada linea, volviendo a guardar el resultado en el geojson de los recorridos.\n",
    "\n",
    "El dataset de recorridos disponible en el repositorio es usado como ejemplo.\n",
    "___\n",
    "\n",
    "This notebook is a tool to create a dataset of stops from the routes of the lines. From each line, a stop is interpolated every certain number of meters (defined by the `stops_distance` parameter, which must be an attribute in the geojson of the routes). When building the routes as a graph, and allowing transfers within branches on the same line, stops are added at the same node. The criterion is to add all the stops that are at a certain distance from each other. This parameter sets each `id_linea` stop in `line_stops_buffer` (which must also be an attribute in the geojson of the routes).\n",
    "\n",
    "This notebook follows this process step by step and allows you to tune the `line_stops_buffer` parameter for each line, saving the result back to the geojson of the tracks.\n",
    "\n",
    "The track dataset available in the repository is used as an example."
   ]
  },
  {
   "cell_type": "code",
   "execution_count": null,
   "id": "9b7e8459",
   "metadata": {},
   "outputs": [],
   "source": [
    "import geopandas as gpd\n",
    "import os\n",
    "from urbantrips.carto import stops\n",
    "from urbantrips.utils import utils"
   ]
  },
  {
   "cell_type": "markdown",
   "id": "5422fbe7",
   "metadata": {},
   "source": [
    "Ingresar el directorio donde fue clonado el repositorio de `urbantrips` para que lea correctamente el archivo de configs.\n",
    "___\n",
    "\n",
    "Enter the directory where the `urbantrips` repository was cloned so that it reads the configs file correctly."
   ]
  },
  {
   "cell_type": "code",
   "execution_count": null,
   "id": "e8470acb",
   "metadata": {},
   "outputs": [],
   "source": [
    "URBANTRIPS_PATH = \"[PATH]\"\n",
    "\n",
    "os.chdir(URBANTRIPS_PATH)\n",
    "\n",
    "configs = utils.leer_configs_generales()\n",
    "geojson_path = os.path.join(URBANTRIPS_PATH,\"data\",\"data_ciudad\",configs['recorridos_geojson'])\n"
   ]
  },
  {
   "cell_type": "code",
   "execution_count": null,
   "id": "9182e38c",
   "metadata": {},
   "outputs": [],
   "source": [
    "gdf = gpd.read_file(geojson_path)\n",
    "gdf"
   ]
  },
  {
   "cell_type": "markdown",
   "id": "c0cbbc81",
   "metadata": {},
   "source": [
    "A partir de los recorridos y el parámetro presente en `stops_distance` en el dataset para cada linea/ramal, se crearon las siguientes paradas.\n",
    "\n",
    "____\n",
    "\n",
    "From the routes and the parameter present in `stops_distance` in the dataset for each line/branch, the following stops were created."
   ]
  },
  {
   "cell_type": "code",
   "execution_count": null,
   "id": "ce61c33c",
   "metadata": {},
   "outputs": [],
   "source": [
    "stops_gdf = stops.create_line_stops_equal_interval(geojson_path)\n",
    "stops_gdf"
   ]
  },
  {
   "cell_type": "markdown",
   "id": "727418a2",
   "metadata": {},
   "source": [
    "Se puede chequear para cada linea la ubicación de las paradas interpoladas\n",
    "\n",
    "___\n",
    "\n",
    "You can check for each line the location of the interpolated stops"
   ]
  },
  {
   "cell_type": "code",
   "execution_count": null,
   "id": "28aa16e8",
   "metadata": {},
   "outputs": [],
   "source": [
    "stops_gdf.explore(column = 'id_linea', tiles=\"Stamen Toner\", marker_kwds = {'radius':10}, cmap='Set2')"
   ]
  },
  {
   "cell_type": "markdown",
   "id": "548c90d7",
   "metadata": {},
   "source": [
    "En esta viz puede chequear el orden de las paradas en el ramal para ver que sea incremental y continuo.\n",
    "\n",
    "____\n",
    "\n",
    "In this viz you can check the order of the stops in the branch to see that it is incremental and continuous."
   ]
  },
  {
   "cell_type": "code",
   "execution_count": null,
   "id": "cfa48690",
   "metadata": {},
   "outputs": [],
   "source": [
    "id_ramal = 0\n",
    "stops_gdf.query(f\"id_ramal == {id_ramal}\").explore(column = 'order', tiles=\"Stamen Toner\", marker_kwds = {'radius':10})"
   ]
  },
  {
   "cell_type": "markdown",
   "id": "c7a8300a",
   "metadata": {},
   "source": [
    "Ahora se puede tunear el parámetro `line_stops_buffer` para cada linea. \n",
    "\n",
    "Lo ideal es que no se hayan eliminado demasiadas paradas ni que queden demasiadas superpuestas. \n",
    "\n",
    "Si hay muy pocas paradas y son demasiadas las que fueron fusionadas en un solo `node_id` entonces utilizar un \n",
    "`line_stops_buffer` más conservador, de menor valor.\n",
    "\n",
    "Si son demasiadas paradas y se desea fusionar algunas más, elegir un `line_stops_buffer` mayor.\n",
    "\n",
    "Para la linea `143` con 2 ramales (que sigue el recorrido de la linea 12 de CABA) ligeras diferencias en el recorrido hace que se interpolen paradas demasiado cerca entre si para los dos ramales. Si se utiliza `line_stops_buffer = 50` estan quedarán duplicadas, pero si se utiliza `line_stops_buffer = 100` se fusionaran en una sola parada, en especial donde ambos ramales se superponen.\n",
    "\n",
    "___\n",
    "You can now tune the `line_stops_buffer` parameter for each line.\n",
    "\n",
    "Ideally, not too many stops have been removed or too many overlapping ones.\n",
    "\n",
    "If there are too few stops and too many were merged into a single `node_id` then use a\n",
    "`line_stops_buffer` more conservative, lower value.\n",
    "\n",
    "If there are too many stops and you want to merge some more, choose a larger `line_stops_buffer`.\n",
    "\n",
    "For line `143` with 2 branches (which follows the route of line 12 of CABA) slight differences in the route mean that stops are interpolated too close to each other for the two branches. If `line_stops_buffer = 50` is used they will be duplicated, but if `line_stops_buffer = 100` is used they will be merged into a single stop, especially where both branches overlap."
   ]
  },
  {
   "cell_type": "code",
   "execution_count": null,
   "id": "9ca2e043",
   "metadata": {},
   "outputs": [],
   "source": [
    "# Elegir linea y parametros\n",
    "id_linea = 143\n",
    "line_stops_buffer = 100\n",
    "\n",
    "line_stops_gdf = stops_gdf.loc[stops_gdf.id_linea == id_linea,:]\n",
    "line_stops_gdf.loc[:,['line_stops_buffer']] = line_stops_buffer\n",
    "\n",
    "# Agregar a node_ide\n",
    "stops_with_node_id = stops.create_node_id(line_stops_gdf)\n",
    "\n",
    "# GDF para visualizar\n",
    "geometry = gpd.points_from_xy(stops_with_node_id['x'], stops_with_node_id['y'], crs= 'EPSG:4326')\n",
    "stops_with_node_id_gdf = gpd.GeoDataFrame(stops_with_node_id,geometry=geometry,crs = f\"EPSG:4326\")\n",
    "stops_with_node_id_gdf.explore(color = 'red',tiles=\"Stamen Toner\", marker_kwds = {'radius':10})"
   ]
  },
  {
   "cell_type": "markdown",
   "id": "c9f623f7",
   "metadata": {},
   "source": [
    "Si el parámetro es correcto se puede agregar al dataset y guardarlo en el mismo geojson\n",
    "\n",
    "___\n",
    "\n",
    "If the parameter is correct, it can be added to the dataset and saved in the same geojson"
   ]
  },
  {
   "cell_type": "code",
   "execution_count": null,
   "id": "c9a3140f",
   "metadata": {},
   "outputs": [],
   "source": [
    "geojson_data.loc[geojson_data.id_linea == id_linea,['line_stops_buffer']] = line_stops_buffer\n",
    "geojson_data.to_file(geojson_path, driver='GeoJSON')"
   ]
  },
  {
   "cell_type": "markdown",
   "id": "b6e19581",
   "metadata": {},
   "source": [
    "Una vez que el parámetro `line_stops_buffer` ha sido satisfactoriamente agregado para cada `id_linea`, puede correr `stops.create_temprary_stops_csv_with_node_id(geojson_path)` que dejará guardado el dataset de paradas con orden y `node_id`. Si lo desea puede agregar otro set de paradas que se haya confeccionado manualmente, pero debe tener la misma esctructura. Esto puede ser util para cuando se decide crear de modo manual un dataset de estas características para modos como el metro o el tren. \n",
    "\n",
    "___\n",
    "\n",
    "Once the `line_stops_buffer` parameter has been successfully added for each `line_id`, you can run `stops.create_temprary_stops_csv_with_node_id(geojson_path)` which will save the stops dataset with order and `node_id`. If you wish, you can add another set of stops that has been created manually, but it must have the same structure. This can be useful when it is decided to manually create a dataset of these characteristics for modes such as the subway or the train.\n"
   ]
  }
 ],
 "metadata": {
  "kernelspec": {
   "display_name": "urbantrips_desarrollo",
   "language": "python",
   "name": "urbantrips_desarrollo"
  },
  "language_info": {
   "codemirror_mode": {
    "name": "ipython",
    "version": 3
   },
   "file_extension": ".py",
   "mimetype": "text/x-python",
   "name": "python",
   "nbconvert_exporter": "python",
   "pygments_lexer": "ipython3",
   "version": "3.10.6"
  }
 },
 "nbformat": 4,
 "nbformat_minor": 5
}
