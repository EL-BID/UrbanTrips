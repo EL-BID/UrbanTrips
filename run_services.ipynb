{
 "cells": [
  {
   "cell_type": "code",
   "execution_count": 1,
   "id": "ac609e27-c6a5-4160-bc53-37860a97224a",
   "metadata": {
    "tags": []
   },
   "outputs": [
    {
     "name": "stdout",
     "output_type": "stream",
     "text": [
      "Se concluyó el chequeo del archivo de configuración\n",
      "INICIO GPS\n",
      "2023-07-06 10:25:50.539062\n",
      "Procesando tabla gps\n"
     ]
    },
    {
     "ename": "OperationalError",
     "evalue": "database is locked",
     "output_type": "error",
     "traceback": [
      "\u001b[1;31m---------------------------------------------------------------------------\u001b[0m",
      "\u001b[1;31mOperationalError\u001b[0m                          Traceback (most recent call last)",
      "Cell \u001b[1;32mIn[1], line 27\u001b[0m\n\u001b[0;32m     24\u001b[0m \u001b[38;5;28mprint\u001b[39m(datetime\u001b[38;5;241m.\u001b[39mnow())\n\u001b[0;32m     26\u001b[0m \u001b[38;5;66;03m# SUBO LOS DATOS DE GPS , TRX YA GEOLOCALIZADO\u001b[39;00m\n\u001b[1;32m---> 27\u001b[0m \u001b[43mtrx\u001b[49m\u001b[38;5;241;43m.\u001b[39;49m\u001b[43mprocess_and_upload_gps_table\u001b[49m\u001b[43m(\u001b[49m\n\u001b[0;32m     28\u001b[0m \u001b[43m    \u001b[49m\u001b[43mnombre_archivo_gps\u001b[49m\u001b[38;5;241;43m=\u001b[39;49m\u001b[43mnombre_archivo_gps\u001b[49m\u001b[43m,\u001b[49m\n\u001b[0;32m     29\u001b[0m \u001b[43m    \u001b[49m\u001b[43mnombres_variables_gps\u001b[49m\u001b[38;5;241;43m=\u001b[39;49m\u001b[43mnombres_variables_gps\u001b[49m\u001b[43m,\u001b[49m\n\u001b[0;32m     30\u001b[0m \u001b[43m    \u001b[49m\u001b[43mformato_fecha\u001b[49m\u001b[38;5;241;43m=\u001b[39;49m\u001b[43mformato_fecha\u001b[49m\u001b[43m)\u001b[49m\n\u001b[0;32m     32\u001b[0m \u001b[38;5;28mprint\u001b[39m(\u001b[38;5;124m\"\u001b[39m\u001b[38;5;124mFIN GPS\u001b[39m\u001b[38;5;124m\"\u001b[39m)\n\u001b[0;32m     33\u001b[0m \u001b[38;5;28mprint\u001b[39m(datetime\u001b[38;5;241m.\u001b[39mnow())\n",
      "File \u001b[1;32mD:\\sanapolsky\\Google Drive\\Python 2.0\\github\\UrbanTrips\\UrbanTrips\\urbantrips\\datamodel\\transactions.py:681\u001b[0m, in \u001b[0;36mprocess_and_upload_gps_table\u001b[1;34m(nombre_archivo_gps, nombres_variables_gps, formato_fecha)\u001b[0m\n\u001b[0;32m    678\u001b[0m conn \u001b[38;5;241m=\u001b[39m iniciar_conexion_db(tipo\u001b[38;5;241m=\u001b[39m\u001b[38;5;124m'\u001b[39m\u001b[38;5;124mdata\u001b[39m\u001b[38;5;124m'\u001b[39m)\n\u001b[0;32m    680\u001b[0m \u001b[38;5;66;03m# crear tabla gps en la db\u001b[39;00m\n\u001b[1;32m--> 681\u001b[0m \u001b[43mcrear_tablas_geolocalizacion\u001b[49m\u001b[43m(\u001b[49m\u001b[43m)\u001b[49m\n\u001b[0;32m    683\u001b[0m ruta_gps \u001b[38;5;241m=\u001b[39m os\u001b[38;5;241m.\u001b[39mpath\u001b[38;5;241m.\u001b[39mjoin(\u001b[38;5;124m\"\u001b[39m\u001b[38;5;124mdata\u001b[39m\u001b[38;5;124m\"\u001b[39m, \u001b[38;5;124m\"\u001b[39m\u001b[38;5;124mdata_ciudad\u001b[39m\u001b[38;5;124m\"\u001b[39m, nombre_archivo_gps)\n\u001b[0;32m    684\u001b[0m gps \u001b[38;5;241m=\u001b[39m pd\u001b[38;5;241m.\u001b[39mread_csv(ruta_gps)\n",
      "File \u001b[1;32mD:\\sanapolsky\\Google Drive\\Python 2.0\\github\\UrbanTrips\\UrbanTrips\\urbantrips\\utils\\utils.py:532\u001b[0m, in \u001b[0;36mcrear_tablas_geolocalizacion\u001b[1;34m()\u001b[0m\n\u001b[0;32m    527\u001b[0m \u001b[38;5;250m\u001b[39m\u001b[38;5;124;03m\"\"\"Esta funcion crea la tablas en la db para albergar los datos de\u001b[39;00m\n\u001b[0;32m    528\u001b[0m \u001b[38;5;124;03mgps y transacciones economicas sin latlong\"\"\"\u001b[39;00m\n\u001b[0;32m    530\u001b[0m conn_data \u001b[38;5;241m=\u001b[39m iniciar_conexion_db(tipo\u001b[38;5;241m=\u001b[39m\u001b[38;5;124m'\u001b[39m\u001b[38;5;124mdata\u001b[39m\u001b[38;5;124m'\u001b[39m)\n\u001b[1;32m--> 532\u001b[0m \u001b[43mconn_data\u001b[49m\u001b[38;5;241;43m.\u001b[39;49m\u001b[43mexecute\u001b[49m\u001b[43m(\u001b[49m\n\u001b[0;32m    533\u001b[0m \u001b[38;5;250;43m    \u001b[39;49m\u001b[38;5;124;43;03m\"\"\"\u001b[39;49;00m\n\u001b[0;32m    534\u001b[0m \u001b[38;5;124;43;03m        CREATE TABLE IF NOT EXISTS trx_eco\u001b[39;49;00m\n\u001b[0;32m    535\u001b[0m \u001b[38;5;124;43;03m            (\u001b[39;49;00m\n\u001b[0;32m    536\u001b[0m \u001b[38;5;124;43;03m            id INT PRIMARY KEY NOT NULL,\u001b[39;49;00m\n\u001b[0;32m    537\u001b[0m \u001b[38;5;124;43;03m            id_original int,\u001b[39;49;00m\n\u001b[0;32m    538\u001b[0m \u001b[38;5;124;43;03m            id_tarjeta text,\u001b[39;49;00m\n\u001b[0;32m    539\u001b[0m \u001b[38;5;124;43;03m            fecha datetime,\u001b[39;49;00m\n\u001b[0;32m    540\u001b[0m \u001b[38;5;124;43;03m            dia text,\u001b[39;49;00m\n\u001b[0;32m    541\u001b[0m \u001b[38;5;124;43;03m            tiempo text,\u001b[39;49;00m\n\u001b[0;32m    542\u001b[0m \u001b[38;5;124;43;03m            hora int,\u001b[39;49;00m\n\u001b[0;32m    543\u001b[0m \u001b[38;5;124;43;03m            modo text,\u001b[39;49;00m\n\u001b[0;32m    544\u001b[0m \u001b[38;5;124;43;03m            id_linea int,\u001b[39;49;00m\n\u001b[0;32m    545\u001b[0m \u001b[38;5;124;43;03m            id_ramal int,\u001b[39;49;00m\n\u001b[0;32m    546\u001b[0m \u001b[38;5;124;43;03m            interno int,\u001b[39;49;00m\n\u001b[0;32m    547\u001b[0m \u001b[38;5;124;43;03m            orden int,\u001b[39;49;00m\n\u001b[0;32m    548\u001b[0m \u001b[38;5;124;43;03m            factor_expansion float\u001b[39;49;00m\n\u001b[0;32m    549\u001b[0m \u001b[38;5;124;43;03m            )\u001b[39;49;00m\n\u001b[0;32m    550\u001b[0m \u001b[38;5;124;43;03m        ;\u001b[39;49;00m\n\u001b[0;32m    551\u001b[0m \u001b[38;5;124;43;03m        \"\"\"\u001b[39;49;00m\n\u001b[0;32m    552\u001b[0m \u001b[43m\u001b[49m\u001b[43m)\u001b[49m\n\u001b[0;32m    554\u001b[0m crear_tabla_gps(conn_data)\n\u001b[0;32m    556\u001b[0m conn_data\u001b[38;5;241m.\u001b[39mexecute(\n\u001b[0;32m    557\u001b[0m \u001b[38;5;250m    \u001b[39m\u001b[38;5;124;03m\"\"\"\u001b[39;00m\n\u001b[0;32m    558\u001b[0m \u001b[38;5;124;03m        CREATE INDEX IF NOT EXISTS trx_idx ON trx_eco (\u001b[39;00m\n\u001b[1;32m   (...)\u001b[0m\n\u001b[0;32m    561\u001b[0m \u001b[38;5;124;03m        \"\"\"\u001b[39;00m\n\u001b[0;32m    562\u001b[0m )\n",
      "\u001b[1;31mOperationalError\u001b[0m: database is locked"
     ]
    }
   ],
   "source": [
    "import os\n",
    "os.environ['USE_PYGEOS'] = '0'\n",
    "from urbantrips.datamodel import services\n",
    "from urbantrips.datamodel import transactions as trx\n",
    "from urbantrips.utils import utils\n",
    "from datetime import datetime\n",
    "from urbantrips.utils.check_configs import check_config\n",
    "\n",
    "# def main():\n",
    "if True:\n",
    "    \n",
    "    # # Check config file consistency\n",
    "    check_config()\n",
    "\n",
    "    # Read config file\n",
    "    configs = utils.leer_configs_generales()\n",
    "\n",
    "    # trx configs\n",
    "    formato_fecha = configs[\"formato_fecha\"]\n",
    "    nombre_archivo_gps = configs[\"nombre_archivo_gps\"]\n",
    "    nombres_variables_gps = configs[\"nombres_variables_gps\"]\n",
    "\n",
    "    print(\"INICIO GPS\")\n",
    "    print(datetime.now())\n",
    "\n",
    "    # SUBO LOS DATOS DE GPS , TRX YA GEOLOCALIZADO\n",
    "    trx.process_and_upload_gps_table(\n",
    "        nombre_archivo_gps=nombre_archivo_gps,\n",
    "        nombres_variables_gps=nombres_variables_gps,\n",
    "        formato_fecha=formato_fecha)\n",
    "\n",
    "    print(\"FIN GPS\")\n",
    "    print(datetime.now())\n",
    "\n",
    "    # proceso servicios\n",
    "    print(\"INICIO SERVICIOS\")\n",
    "    print(datetime.now())\n",
    "    services.process_services()\n",
    "    print(\"FIN SERVICIOS\")\n",
    "    print(datetime.now())\n",
    "\n",
    "\n",
    "# if __name__ == \"__main__\":\n",
    "#     main()"
   ]
  },
  {
   "cell_type": "code",
   "execution_count": 2,
   "id": "e49173fe-6ba7-4393-b164-3070435270c7",
   "metadata": {},
   "outputs": [],
   "source": [
    "import pandas as pd\n",
    "import sqlite3\n",
    "import os\n",
    "import yaml\n",
    "import time\n",
    "from functools import wraps\n",
    "import h3\n",
    "import numpy as np\n",
    "import weightedstats as ws\n",
    "from pandas.io.sql import DatabaseError"
   ]
  },
  {
   "cell_type": "code",
   "execution_count": 4,
   "id": "04e2dc2f-d26d-43bf-b6f9-a1206aac72bd",
   "metadata": {
    "tags": []
   },
   "outputs": [
    {
     "name": "stderr",
     "output_type": "stream",
     "text": [
      "C:\\Users\\sanap\\miniconda3\\envs\\urbantrips\\lib\\site-packages\\geopandas\\_compat.py:123: UserWarning: The Shapely GEOS version (3.11.1-CAPI-1.17.1) is incompatible with the GEOS version PyGEOS was compiled with (3.10.4-CAPI-1.16.2). Conversions between both will be slow.\n",
      "  warnings.warn(\n",
      "C:\\Users\\sanap\\miniconda3\\envs\\urbantrips\\lib\\site-packages\\osmnx\\projection.py:3: UserWarning: Shapely 2.0 is installed, but because PyGEOS is also installed, GeoPandas will still use PyGEOS by default for now. To force to use and test Shapely 2.0, you have to set the environment variable USE_PYGEOS=0. You can do this before starting the Python process, or in your code before importing geopandas:\n",
      "\n",
      "import os\n",
      "os.environ['USE_PYGEOS'] = '0'\n",
      "import geopandas\n",
      "\n",
      "In a future release, GeoPandas will switch to using Shapely by default. If you are using PyGEOS directly (calling PyGEOS functions on geometries from GeoPandas), this will then stop working and you are encouraged to migrate from PyGEOS to Shapely 2.0 (https://shapely.readthedocs.io/en/latest/migration_pygeos.html).\n",
      "  import geopandas as gpd\n"
     ]
    }
   ],
   "source": [
    "from datetime import datetime\n",
    "import networkx as nx\n",
    "import osmnx as ox\n",
    "import pandas as pd\n",
    "from pandas.io.sql import DatabaseError\n",
    "import numpy as np\n",
    "import itertools\n",
    "import os\n",
    "import geopandas as gpd\n",
    "import h3\n",
    "from networkx import NetworkXNoPath\n",
    "import multiprocessing\n",
    "from functools import partial\n",
    "from math import sqrt\n",
    "from urbantrips.geo.geo import (\n",
    "    get_stop_hex_ring, h3togeo, add_geometry,\n",
    "    create_voronoi, normalizo_lat_lon, h3dist, bring_latlon\n",
    ")\n",
    "from urbantrips.viz import viz\n",
    "from urbantrips.utils.utils import (\n",
    "    duracion,\n",
    "    iniciar_conexion_db,\n",
    "    leer_configs_generales,\n",
    "    leer_alias)"
   ]
  },
  {
   "cell_type": "code",
   "execution_count": 6,
   "id": "2018df43-13b5-4204-abfc-c46a9a3c5c6d",
   "metadata": {},
   "outputs": [
    {
     "data": {
      "text/html": [
       "<div>\n",
       "<style scoped>\n",
       "    .dataframe tbody tr th:only-of-type {\n",
       "        vertical-align: middle;\n",
       "    }\n",
       "\n",
       "    .dataframe tbody tr th {\n",
       "        vertical-align: top;\n",
       "    }\n",
       "\n",
       "    .dataframe thead th {\n",
       "        text-align: right;\n",
       "    }\n",
       "</style>\n",
       "<table border=\"1\" class=\"dataframe\">\n",
       "  <thead>\n",
       "    <tr style=\"text-align: right;\">\n",
       "      <th></th>\n",
       "      <th>h3_o</th>\n",
       "      <th>h3_d</th>\n",
       "      <th>h3_o_norm</th>\n",
       "      <th>h3_d_norm</th>\n",
       "      <th>distance_osm_drive</th>\n",
       "      <th>distance_osm_walk</th>\n",
       "      <th>distance_h3</th>\n",
       "    </tr>\n",
       "  </thead>\n",
       "  <tbody>\n",
       "  </tbody>\n",
       "</table>\n",
       "</div>"
      ],
      "text/plain": [
       "Empty DataFrame\n",
       "Columns: [h3_o, h3_d, h3_o_norm, h3_d_norm, distance_osm_drive, distance_osm_walk, distance_h3]\n",
       "Index: []"
      ]
     },
     "execution_count": 6,
     "metadata": {},
     "output_type": "execute_result"
    }
   ],
   "source": [
    "conn_insumos = iniciar_conexion_db(tipo='insumos')\n",
    "\n",
    "distancias = pd.read_sql_query(\n",
    "    \"\"\"\n",
    "    SELECT *\n",
    "    FROM distancias\n",
    "    \"\"\",\n",
    "    conn_insumos,\n",
    ")\n",
    "distancias"
   ]
  },
  {
   "cell_type": "code",
   "execution_count": null,
   "id": "b303234b-c846-4907-9f8d-d3e0122754ba",
   "metadata": {},
   "outputs": [],
   "source": []
  }
 ],
 "metadata": {
  "kernelspec": {
   "display_name": "Python 3 (ipykernel)",
   "language": "python",
   "name": "python3"
  },
  "language_info": {
   "codemirror_mode": {
    "name": "ipython",
    "version": 3
   },
   "file_extension": ".py",
   "mimetype": "text/x-python",
   "name": "python",
   "nbconvert_exporter": "python",
   "pygments_lexer": "ipython3",
   "version": "3.10.10"
  }
 },
 "nbformat": 4,
 "nbformat_minor": 5
}
